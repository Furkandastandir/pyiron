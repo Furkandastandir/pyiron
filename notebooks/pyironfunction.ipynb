{
 "cells": [
  {
   "cell_type": "code",
   "execution_count": null,
   "metadata": {},
   "outputs": [],
   "source": [
    "from pyiron import Project, pyironfunction"
   ]
  },
  {
   "cell_type": "code",
   "execution_count": null,
   "metadata": {},
   "outputs": [],
   "source": [
    "pr = Project(\"mini\")"
   ]
  },
  {
   "cell_type": "code",
   "execution_count": null,
   "metadata": {},
   "outputs": [],
   "source": [
    "pr.user_settings[\"project\"] = pr  # We select a project\n",
    "pr.user_settings[\"potential\"] = 'Al_Mg_Mendelev_eam'  # We select a potential which is later on overwritten \n",
    "pr.user_settings[\"job_type\"] = pr.job_type.Lammps  # We set Lammps as the default job type - which is not specified in the function \n",
    "pr.user_settings[\"style\"] = \"sd\"  # We overwrite the default of conjugate gradient "
   ]
  },
  {
   "cell_type": "code",
   "execution_count": null,
   "metadata": {},
   "outputs": [],
   "source": [
    "structure = pr.create_ase_bulk(\"Al\")\n",
    "potential = 'Zope_Ti_Al_2003_eam'\n",
    "name = \"mini_\" + potential"
   ]
  },
  {
   "cell_type": "code",
   "execution_count": null,
   "metadata": {},
   "outputs": [],
   "source": [
    "@pyironfunction\n",
    "def minimize_structure(project=None, structure=None, name=None, potential=None, execute_job=True, job_type=None, e_tol=0.0, f_tol=0.0001, max_iter=100000, pressure=None, n_print=100, style='cg'):\n",
    "    job_mini = project.create_job(job_type, name)\n",
    "    job_mini.structure = structure\n",
    "    job_mini.potential = potential\n",
    "    job_mini.calc_minimize(\n",
    "        e_tol=e_tol,\n",
    "        f_tol=f_tol,\n",
    "        max_iter=max_iter,\n",
    "        pressure=pressure,\n",
    "        n_print=n_print,\n",
    "        style=style\n",
    "    )\n",
    "    if execute_job:\n",
    "        job_mini.run()\n",
    "    return job_mini"
   ]
  },
  {
   "cell_type": "code",
   "execution_count": null,
   "metadata": {},
   "outputs": [],
   "source": [
    "job_mini = minimize_structure(\n",
    "    structure=structure, \n",
    "    name=name, \n",
    "    potential=potential\n",
    ")"
   ]
  }
 ],
 "metadata": {
  "kernelspec": {
   "display_name": "Python 3",
   "language": "python",
   "name": "python3"
  },
  "language_info": {
   "codemirror_mode": {
    "name": "ipython",
    "version": 3
   },
   "file_extension": ".py",
   "mimetype": "text/x-python",
   "name": "python",
   "nbconvert_exporter": "python",
   "pygments_lexer": "ipython3",
   "version": "3.7.8"
  }
 },
 "nbformat": 4,
 "nbformat_minor": 4
}
