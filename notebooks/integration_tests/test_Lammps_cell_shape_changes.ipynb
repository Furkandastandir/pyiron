{
 "cells": [
  {
   "cell_type": "markdown",
   "metadata": {},
   "source": [
    "# Run time\n",
    "\n",
    "Tests complete in slightly less than 1 minute on a single core.\n",
    "\n",
    "# Purpose\n",
    "\n",
    "Pyiron accepts simulation cells of any arbitrary shape,\n",
    "\n",
    "```\n",
    "[[ax, ay, az],\n",
    " [bx, by, bz],\n",
    " [cx, cy, cz]]\n",
    "```\n",
    "\n",
    "In contrast, Lammps accepts cells which are formatted only a certain way. Namely,\n",
    "\n",
    "```\n",
    "[[lx,  0,  0],\n",
    " [xy, ly,  0],\n",
    " [xz, yz, lz]]\n",
    " ```\n",
    " \n",
    "This format is still sufficiently general to represent any cell, but it is important to accurately convert our cell (and positions etc) to the Lammps coordinate frame, and then to transform back when we are reading the Lammps output.\n",
    "\n",
    "This notebook is designed to test that the evolution of cell shapes and sizes functions properly by checking the following things:\n",
    "\n",
    "- By deforming several representations of the bulk system (primitive, orthorhombic, and cubic) then minimizing them, do they all return the same energy and volume per atom in their minimized state?\n",
    "- Running zero pressure MD on the primitive cell, then using the final structure output to start a new static calculation, do all the outputs from the final step of the MD match with the static calculation?\n",
    "- Do the volumes dumped by Lammps agree with the volumes in our cell output?\n",
    "- Lammps accepts only right-handed coordinate systems, do we comply with this?\n",
    "\n",
    "These tests are run for both interactive and regular Lammps jobs, and for representitives of all three basic crystal structures (FCC, BCC, and HCP)."
   ]
  },
  {
   "cell_type": "code",
   "execution_count": null,
   "metadata": {
    "ExecuteTime": {
     "end_time": "2019-11-29T19:54:29.537689Z",
     "start_time": "2019-11-29T19:54:27.969787Z"
    }
   },
   "outputs": [],
   "source": [
    "from pyiron.project import Project \n",
    "import numpy as np"
   ]
  },
  {
   "cell_type": "code",
   "execution_count": null,
   "metadata": {
    "ExecuteTime": {
     "end_time": "2019-11-29T19:54:30.108000Z",
     "start_time": "2019-11-29T19:54:29.541243Z"
    }
   },
   "outputs": [],
   "source": [
    "pr = Project('integration_test_Lammps_cell_shape_changes')\n",
    "pr.remove_jobs(recursive=True)"
   ]
  },
  {
   "cell_type": "code",
   "execution_count": null,
   "metadata": {
    "ExecuteTime": {
     "end_time": "2019-11-29T19:54:30.114811Z",
     "start_time": "2019-11-29T19:54:30.110465Z"
    }
   },
   "outputs": [],
   "source": [
    "interactive_options = [False, True] \n",
    "hosts = ['Al', 'Mo', 'Mg']\n",
    "cell_modes = ['cubic', 'orthorhombic', 'primitive']"
   ]
  },
  {
   "cell_type": "code",
   "execution_count": null,
   "metadata": {
    "ExecuteTime": {
     "end_time": "2019-11-29T19:54:30.121525Z",
     "start_time": "2019-11-29T19:54:30.117837Z"
    }
   },
   "outputs": [],
   "source": [
    "def make_unit_cell(host, cell_mode):\n",
    "    if cell_mode == 'cubic':\n",
    "        return pr.create_ase_bulk(host, cubic=True)\n",
    "    elif cell_mode == 'orthorhombic':\n",
    "        return pr.create_ase_bulk(host, orthorhombic=True)\n",
    "    else:\n",
    "        return pr.create_ase_bulk(host)"
   ]
  },
  {
   "cell_type": "code",
   "execution_count": null,
   "metadata": {
    "ExecuteTime": {
     "end_time": "2019-11-29T19:54:47.046366Z",
     "start_time": "2019-11-29T19:54:30.125164Z"
    }
   },
   "outputs": [],
   "source": [
    "cell_deformation = np.array([\n",
    "    [ 0.0, 0.0,  0.8],\n",
    "    [-0.2, 0.0, -0.1],\n",
    "    [ 0.0, 0.5,  0.0]\n",
    "])\n",
    "# Be a little bit careful here; for deformations that are too big, the minimizer can fail\n",
    "# and stop early, leading to a failure that isn't due to anything bad in our code, but \n",
    "# just pushing the Lammps minimizer too far.\n",
    "\n",
    "f_tol = 1e-8\n",
    "max_iter = 10000\n",
    "std_dev_tolerance = 1e-4\n",
    "n_print = max_iter\n",
    "\n",
    "jobs = []\n",
    "\n",
    "for is_interactive in interactive_options:\n",
    "    for host in hosts:\n",
    "        per_atom_energies = []\n",
    "        per_atom_volumes = []\n",
    "        \n",
    "        for cell_mode in cell_modes:\n",
    "            structure = make_unit_cell(host, cell_mode)   \n",
    "            structure.cell += cell_deformation  # Deform cell so the relaxation is interesting/necessary\n",
    "            \n",
    "            job_name = '_'.join([host, str(is_interactive), cell_mode, 'minimization'])\n",
    "            job = pr.create_job(pr.job_type.Lammps, job_name)\n",
    "            job.structure = structure\n",
    "            job.potential = job.list_potentials()[0]\n",
    "            job.calc_minimize(pressure=6*[0.], f_tol=f_tol, max_iter=max_iter, n_print=n_print)\n",
    "            job.run()\n",
    "            per_atom_energies.append(job.output.energy_pot[-1] / len(structure))\n",
    "            per_atom_volumes.append(job.output.volume[-1] / len(structure))\n",
    "            jobs.append(job)\n",
    "        \n",
    "        assert np.std(per_atom_energies) < std_dev_tolerance, \"Energies among cell types not equivalent\"\n",
    "        assert np.std(per_atom_volumes) < std_dev_tolerance, \"Volumes among cell types not equivalent\"\n",
    "            "
   ]
  },
  {
   "cell_type": "code",
   "execution_count": null,
   "metadata": {
    "ExecuteTime": {
     "end_time": "2019-11-29T19:55:24.936803Z",
     "start_time": "2019-11-29T19:54:47.057733Z"
    }
   },
   "outputs": [],
   "source": [
    "for is_interactive in interactive_options:\n",
    "    for host in hosts:\n",
    "        for cell_mode in cell_modes:\n",
    "            structure = make_unit_cell(host, cell_mode)\n",
    "            \n",
    "            job_md_name = '_'.join([host, str(is_interactive), cell_mode, 'md'])\n",
    "            job_md = pr.create_job(pr.job_type.Lammps, job_md_name)\n",
    "            job_md.structure = structure.repeat(2)\n",
    "            job_md.potential = job_md.list_potentials()[0]\n",
    "            job_md.calc_md(temperature=300, pressure=6*[0], n_ionic_steps=100, n_print=10)\n",
    "            job_md.run()\n",
    "            assert(np.allclose(\n",
    "                job_md.output.volume, \n",
    "                [np.linalg.det(cell) for cell in job_md['output/generic/cells']]\n",
    "            ))\n",
    "            \n",
    "            job_static_name = '_'.join([host, str(is_interactive), cell_mode, 'static'])\n",
    "            job_static = pr.create_job(pr.job_type.Lammps, job_static_name)\n",
    "            job_static.structure = job_md.get_structure(iteration_step=-1).copy()\n",
    "            job_static.potential = job_static.list_potentials()[0]\n",
    "            job_static.calc_static()\n",
    "            job_static.run()\n",
    "            \n",
    "            assert np.allclose(job_md.output.cells[-1], job_static.output.cells[-1]), \"Cells differ\"\n",
    "            assert np.isclose(job_md.output.energy_pot[-1], job_static.output.energy_pot[-1]), \"Energies differ\"\n",
    "            assert np.allclose(job_md.output.forces[-1], job_static.output.forces[-1]), \"Forces differ\"\n",
    "            \n",
    "            job_md_struct = job_md.get_structure(iteration_step=-1).copy()\n",
    "            job_md_struct.wrap()\n",
    "            job_static_struct = job_static.get_structure(iteration_step=-1).copy()\n",
    "            job_static_struct.wrap()\n",
    "            assert np.allclose(job_md_struct.positions, job_static_struct.positions), \"Wrapped positions differ\"\n",
    "            \n",
    "            job_md_struct.positions = job_md.output.unwrapped_positions[-1]\n",
    "            job_md_struct.wrap()\n",
    "            job_static_struct.positions = job_static.output.unwrapped_positions[-1]\n",
    "            job_static_struct.wrap()\n",
    "            assert np.allclose(job_md_struct.positions, job_static_struct.positions), \\\n",
    "                \"Wrapped unwrapped positions differ\""
   ]
  },
  {
   "cell_type": "code",
   "execution_count": null,
   "metadata": {
    "ExecuteTime": {
     "end_time": "2019-11-29T19:55:26.239484Z",
     "start_time": "2019-11-29T19:55:24.949357Z"
    }
   },
   "outputs": [],
   "source": [
    "# Clean up\n",
    "pr.remove_jobs(recursive=True)\n",
    "pr.remove(enable=True)"
   ]
  }
 ],
 "metadata": {
  "kernelspec": {
   "display_name": "Python 3",
   "language": "python",
   "name": "python3"
  },
  "language_info": {
   "codemirror_mode": {
    "name": "ipython",
    "version": 3
   },
   "file_extension": ".py",
   "mimetype": "text/x-python",
   "name": "python",
   "nbconvert_exporter": "python",
   "pygments_lexer": "ipython3",
   "version": "3.6.5"
  },
  "toc": {
   "base_numbering": 1,
   "nav_menu": {},
   "number_sections": true,
   "sideBar": true,
   "skip_h1_title": false,
   "title_cell": "Table of Contents",
   "title_sidebar": "Contents",
   "toc_cell": false,
   "toc_position": {},
   "toc_section_display": true,
   "toc_window_display": false
  }
 },
 "nbformat": 4,
 "nbformat_minor": 2
}
