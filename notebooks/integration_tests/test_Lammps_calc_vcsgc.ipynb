{
 "cells": [
  {
   "cell_type": "markdown",
   "metadata": {},
   "source": [
    "# Run time\n",
    "\n",
    "Tests complete in slightly less than 1 minute on a single core.\n",
    "\n",
    "# Purpose\n",
    "\n",
    "We now have bindings to the special variance-constrained semi-grand canonical (VCSGC) Monte Carlo/MD coupling implemented [here](https://vcsgc-lammps.materialsmodeling.org). This is a simple set of tests to make sure that it is working smoothly."
   ]
  },
  {
   "cell_type": "code",
   "execution_count": null,
   "metadata": {
    "ExecuteTime": {
     "end_time": "2019-12-02T17:00:09.342719Z",
     "start_time": "2019-12-02T17:00:07.670169Z"
    }
   },
   "outputs": [],
   "source": [
    "from pyiron.project import Project \n",
    "import numpy as np"
   ]
  },
  {
   "cell_type": "code",
   "execution_count": null,
   "metadata": {
    "ExecuteTime": {
     "end_time": "2019-12-02T17:00:10.601772Z",
     "start_time": "2019-12-02T17:00:09.344862Z"
    }
   },
   "outputs": [],
   "source": [
    "pr = Project('integration_test_Lammps_vcsgc')\n",
    "pr.remove_jobs(recursive=True)"
   ]
  },
  {
   "cell_type": "code",
   "execution_count": null,
   "metadata": {
    "ExecuteTime": {
     "end_time": "2019-12-02T17:00:15.028783Z",
     "start_time": "2019-12-02T17:00:10.603502Z"
    }
   },
   "outputs": [],
   "source": [
    "# Create job\n",
    "job = pr.create_job(pr.job_type.Lammps, 'vcsgc_job')\n",
    "job.structure = pr.create_ase_bulk('Al', cubic=True).repeat(15)  # VCSGC has minimial cell size requirements\n",
    "job.structure[0] = 'Mg'  # Temporarily set one atom to Mg so we can programatically get a binary potential\n",
    "job.potential = job.list_potentials()[0]\n",
    "job.structure[0] = 'Al'  # And switch it back so we start with pure Al\n",
    "\n",
    "# Define chemical potentials\n",
    "mu = {s: 0. for s in job.input.potential.get_element_lst()}\n",
    "mu['Mg'] = -100  # Massive preference for Mg\n",
    "\n",
    "# Set target concentrations for 50-50 Al-Mg regardless of whatever else is in the potential\n",
    "target_concentration = dict(mu)\n",
    "target_concentration['Al'] = 0.5\n",
    "target_concentration['Mg'] = 0.5\n",
    "\n",
    "# Run VCSGC\n",
    "job.calc_vcsgc(\n",
    "    mu=mu,\n",
    "    target_concentration=target_concentration,\n",
    "    kappa=1000000.,  # Very large because we want to hit 50-50 exactly and quickly and mu_Mg is strong\n",
    "    mc_step_interval=1,\n",
    "    swap_fraction=1.,\n",
    "    n_ionic_steps=2,\n",
    "    n_print=2,\n",
    "    temperature=300,\n",
    "    pressure=None\n",
    ")\n",
    "job.run()\n",
    "\n",
    "# Check that the system ends in a 50-50 state\n",
    "symbols = np.array([el.Abbreviation for el in job.get_structure(iteration_step=-1).elements])\n",
    "assert np.sum(symbols == 'Mg') == np.sum(symbols == 'Al'), \"The system was not equiatomic\""
   ]
  },
  {
   "cell_type": "code",
   "execution_count": null,
   "metadata": {
    "ExecuteTime": {
     "end_time": "2019-12-02T17:00:15.717364Z",
     "start_time": "2019-12-02T17:00:15.072122Z"
    }
   },
   "outputs": [],
   "source": [
    "# Clean up\n",
    "pr.remove_jobs(recursive=True)\n",
    "pr.remove(enable=True)"
   ]
  }
 ],
 "metadata": {
  "kernelspec": {
   "display_name": "Python 3",
   "language": "python",
   "name": "python3"
  },
  "language_info": {
   "codemirror_mode": {
    "name": "ipython",
    "version": 3
   },
   "file_extension": ".py",
   "mimetype": "text/x-python",
   "name": "python",
   "nbconvert_exporter": "python",
   "pygments_lexer": "ipython3",
   "version": "3.7.3"
  },
  "toc": {
   "base_numbering": 1,
   "nav_menu": {},
   "number_sections": true,
   "sideBar": true,
   "skip_h1_title": false,
   "title_cell": "Table of Contents",
   "title_sidebar": "Contents",
   "toc_cell": false,
   "toc_position": {},
   "toc_section_display": true,
   "toc_window_display": true
  }
 },
 "nbformat": 4,
 "nbformat_minor": 2
}
